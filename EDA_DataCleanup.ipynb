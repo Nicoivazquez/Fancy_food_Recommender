{
 "cells": [
  {
   "cell_type": "code",
   "execution_count": 1,
   "metadata": {},
   "outputs": [
    {
     "name": "stdout",
     "output_type": "stream",
     "text": [
      "/home/nico/Desktop/Galvanize/capstone/Fancy_food_Recommender\n"
     ]
    }
   ],
   "source": [
    "import os\n",
    "import json\n",
    "import gzip\n",
    "import pandas as pd\n",
    "import numpy as np\n",
    "!pwd"
   ]
  },
  {
   "cell_type": "code",
   "execution_count": 5,
   "metadata": {},
   "outputs": [
    {
     "name": "stdout",
     "output_type": "stream",
     "text": [
      "151254\n",
      "{'reviewerID': 'A1VEELTKS8NLZB', 'asin': '616719923X', 'reviewerName': 'Amazon Customer', 'helpful': [0, 0], 'reviewText': 'Just another flavor of Kit Kat but the taste is unique and a bit different.  The only thing that is bothersome is the price.  I thought it was a bit expensive....', 'overall': 4.0, 'summary': 'Good Taste', 'unixReviewTime': 1370044800, 'reviewTime': '06 1, 2013'}\n"
     ]
    }
   ],
   "source": [
    "### load the meta data\n",
    "\n",
    "data = []\n",
    "with gzip.open('../reviews_Grocery_and_Gourmet_Food_5.json.gz') as f:\n",
    "    for l in f:\n",
    "        data.append(json.loads(l.strip()))\n",
    "    \n",
    "# total length of list, this number equals total number of products\n",
    "print(len(data))\n",
    "\n",
    "# first row of the list\n",
    "print(data[0])"
   ]
  },
  {
   "cell_type": "code",
   "execution_count": 6,
   "metadata": {},
   "outputs": [
    {
     "name": "stdout",
     "output_type": "stream",
     "text": [
      "151254\n"
     ]
    }
   ],
   "source": [
    "# convert list into pandas dataframe\n",
    "\n",
    "df = pd.DataFrame.from_dict(data)\n",
    "\n",
    "print(len(df))"
   ]
  },
  {
   "cell_type": "code",
   "execution_count": 7,
   "metadata": {},
   "outputs": [
    {
     "name": "stdout",
     "output_type": "stream",
     "text": [
      "<class 'pandas.core.frame.DataFrame'>\n",
      "RangeIndex: 151254 entries, 0 to 151253\n",
      "Data columns (total 9 columns):\n",
      " #   Column          Non-Null Count   Dtype  \n",
      "---  ------          --------------   -----  \n",
      " 0   reviewerID      151254 non-null  object \n",
      " 1   asin            151254 non-null  object \n",
      " 2   reviewerName    149761 non-null  object \n",
      " 3   helpful         151254 non-null  object \n",
      " 4   reviewText      151254 non-null  object \n",
      " 5   overall         151254 non-null  float64\n",
      " 6   summary         151254 non-null  object \n",
      " 7   unixReviewTime  151254 non-null  int64  \n",
      " 8   reviewTime      151254 non-null  object \n",
      "dtypes: float64(1), int64(1), object(7)\n",
      "memory usage: 10.4+ MB\n"
     ]
    }
   ],
   "source": [
    "df.info()"
   ]
  },
  {
   "cell_type": "markdown",
   "metadata": {},
   "source": [
    "# so for products we have \n",
    "\n",
    "reviewerID - ID of the reviewer, e.g. A2SUAM1J3GNN3B\n",
    "asin - ID of the product, e.g. 0000013714\n",
    "reviewerName - name of the reviewer\n",
    "vote - helpful votes of the review\n",
    "style - a dictionary of the product metadata, e.g., \"Format\" is \"Hardcover\"\n",
    "reviewText - text of the review\n",
    "overall - rating of the product\n",
    "summary - summary of the review\n",
    "unixReviewTime - time of the review (unix time)\n",
    "reviewTime - time of the review (raw)\n",
    "image - images that users post after they have received the product\n",
    "\n",
    "to do\n",
    "change the name overall to rating\n",
    "change the name reviewText to review\n",
    "change the name summary to review_summary\n",
    "\n",
    "think about style, summary, reviewTime, image, unixReview time, drop these for now. "
   ]
  },
  {
   "cell_type": "code",
   "execution_count": 5,
   "metadata": {},
   "outputs": [],
   "source": [
    "#df[df['image'].notna()]\n",
    "# 70935 actually have a link to the image to show. out of 5,074,160"
   ]
  },
  {
   "cell_type": "code",
   "execution_count": 6,
   "metadata": {},
   "outputs": [
    {
     "data": {
      "text/plain": [
       "5074160"
      ]
     },
     "execution_count": 6,
     "metadata": {},
     "output_type": "execute_result"
    }
   ],
   "source": [
    "len(df['style'].notna())"
   ]
  },
  {
   "cell_type": "code",
   "execution_count": 7,
   "metadata": {},
   "outputs": [],
   "source": [
    "#df['style'].head(1000)"
   ]
  },
  {
   "cell_type": "code",
   "execution_count": 8,
   "metadata": {},
   "outputs": [],
   "source": [
    "df_reviews = df.drop(['reviewTime','unixReviewTime','image','style'], axis=1)\n",
    "#df_reviews = df[df['vote'].fillna('0')]"
   ]
  },
  {
   "cell_type": "code",
   "execution_count": 9,
   "metadata": {},
   "outputs": [
    {
     "name": "stdout",
     "output_type": "stream",
     "text": [
      "<class 'pandas.core.frame.DataFrame'>\n",
      "RangeIndex: 5074160 entries, 0 to 5074159\n",
      "Data columns (total 8 columns):\n",
      " #   Column        Dtype  \n",
      "---  ------        -----  \n",
      " 0   overall       float64\n",
      " 1   verified      bool   \n",
      " 2   reviewerID    object \n",
      " 3   asin          object \n",
      " 4   reviewerName  object \n",
      " 5   reviewText    object \n",
      " 6   summary       object \n",
      " 7   vote          object \n",
      "dtypes: bool(1), float64(1), object(6)\n",
      "memory usage: 275.8+ MB\n"
     ]
    }
   ],
   "source": [
    "df_reviews.info()"
   ]
  },
  {
   "cell_type": "code",
   "execution_count": 10,
   "metadata": {},
   "outputs": [
    {
     "data": {
      "text/html": [
       "<div>\n",
       "<style scoped>\n",
       "    .dataframe tbody tr th:only-of-type {\n",
       "        vertical-align: middle;\n",
       "    }\n",
       "\n",
       "    .dataframe tbody tr th {\n",
       "        vertical-align: top;\n",
       "    }\n",
       "\n",
       "    .dataframe thead th {\n",
       "        text-align: right;\n",
       "    }\n",
       "</style>\n",
       "<table border=\"1\" class=\"dataframe\">\n",
       "  <thead>\n",
       "    <tr style=\"text-align: right;\">\n",
       "      <th></th>\n",
       "      <th>verified</th>\n",
       "      <th>reviewerID</th>\n",
       "      <th>asin</th>\n",
       "      <th>reviewerName</th>\n",
       "      <th>reviewText</th>\n",
       "      <th>helpful_votes</th>\n",
       "      <th>rating</th>\n",
       "      <th>reviewTitle</th>\n",
       "    </tr>\n",
       "  </thead>\n",
       "  <tbody>\n",
       "    <tr>\n",
       "      <th>0</th>\n",
       "      <td>True</td>\n",
       "      <td>ALP49FBWT4I7V</td>\n",
       "      <td>1888861614</td>\n",
       "      <td>Lori</td>\n",
       "      <td>Very pleased with my purchase. Looks exactly l...</td>\n",
       "      <td>NaN</td>\n",
       "      <td>5.0</td>\n",
       "      <td>Love it</td>\n",
       "    </tr>\n",
       "    <tr>\n",
       "      <th>1</th>\n",
       "      <td>True</td>\n",
       "      <td>A1KPIZOCLB9FZ8</td>\n",
       "      <td>1888861614</td>\n",
       "      <td>BK Shopper</td>\n",
       "      <td>Very nicely crafted but too small. Am going to...</td>\n",
       "      <td>NaN</td>\n",
       "      <td>4.0</td>\n",
       "      <td>Nice but small</td>\n",
       "    </tr>\n",
       "    <tr>\n",
       "      <th>2</th>\n",
       "      <td>True</td>\n",
       "      <td>A2W0FA06IYAYQE</td>\n",
       "      <td>1888861614</td>\n",
       "      <td>daninethequeen</td>\n",
       "      <td>still very pretty and well made...i am super p...</td>\n",
       "      <td>NaN</td>\n",
       "      <td>4.0</td>\n",
       "      <td>the \"s\" looks like a 5, kina</td>\n",
       "    </tr>\n",
       "    <tr>\n",
       "      <th>3</th>\n",
       "      <td>True</td>\n",
       "      <td>A2PTZTCH2QUYBC</td>\n",
       "      <td>1888861614</td>\n",
       "      <td>Tammara</td>\n",
       "      <td>I got this for our wedding cake, and it was ev...</td>\n",
       "      <td>NaN</td>\n",
       "      <td>5.0</td>\n",
       "      <td>Would recommend this to a friend!</td>\n",
       "    </tr>\n",
       "    <tr>\n",
       "      <th>4</th>\n",
       "      <td>True</td>\n",
       "      <td>A2VNHGJ59N4Z90</td>\n",
       "      <td>1888861614</td>\n",
       "      <td>LaQuinta Alexander</td>\n",
       "      <td>It was just what I want to put at the top of m...</td>\n",
       "      <td>NaN</td>\n",
       "      <td>4.0</td>\n",
       "      <td>Topper</td>\n",
       "    </tr>\n",
       "    <tr>\n",
       "      <th>...</th>\n",
       "      <td>...</td>\n",
       "      <td>...</td>\n",
       "      <td>...</td>\n",
       "      <td>...</td>\n",
       "      <td>...</td>\n",
       "      <td>...</td>\n",
       "      <td>...</td>\n",
       "      <td>...</td>\n",
       "    </tr>\n",
       "    <tr>\n",
       "      <th>95</th>\n",
       "      <td>True</td>\n",
       "      <td>ADVA88NC8HPEI</td>\n",
       "      <td>4639725043</td>\n",
       "      <td>Tom Kokoshka</td>\n",
       "      <td>Tried many teas ..... this is my standard reli...</td>\n",
       "      <td>NaN</td>\n",
       "      <td>5.0</td>\n",
       "      <td>but this is very good tea at a good price</td>\n",
       "    </tr>\n",
       "    <tr>\n",
       "      <th>96</th>\n",
       "      <td>True</td>\n",
       "      <td>A3UHPPVPM1TRNX</td>\n",
       "      <td>4639725043</td>\n",
       "      <td>Nocal ken</td>\n",
       "      <td>Basic good morning tea.</td>\n",
       "      <td>NaN</td>\n",
       "      <td>4.0</td>\n",
       "      <td>Good morning tea</td>\n",
       "    </tr>\n",
       "    <tr>\n",
       "      <th>97</th>\n",
       "      <td>True</td>\n",
       "      <td>A1CMJ5QJ8AJVDC</td>\n",
       "      <td>4639725043</td>\n",
       "      <td>M. Koch</td>\n",
       "      <td>Okay, but this is not the same Yellow Label Te...</td>\n",
       "      <td>NaN</td>\n",
       "      <td>4.0</td>\n",
       "      <td>Okay, but this is not the same Yellow Label ...</td>\n",
       "    </tr>\n",
       "    <tr>\n",
       "      <th>98</th>\n",
       "      <td>True</td>\n",
       "      <td>A2VADVLLJES4YM</td>\n",
       "      <td>4639725043</td>\n",
       "      <td>Redford John</td>\n",
       "      <td>I'm not much of a tea drinker but my wife and ...</td>\n",
       "      <td>NaN</td>\n",
       "      <td>3.0</td>\n",
       "      <td>I Prefer Coffee</td>\n",
       "    </tr>\n",
       "    <tr>\n",
       "      <th>99</th>\n",
       "      <td>True</td>\n",
       "      <td>AAK49GOMTZ4OR</td>\n",
       "      <td>4639725043</td>\n",
       "      <td>MILTON D HORST</td>\n",
       "      <td>TEA IS FINE. WASN'T TO SURE ABOUT TEA BEADS OR...</td>\n",
       "      <td>NaN</td>\n",
       "      <td>5.0</td>\n",
       "      <td>TEA IS FINE. WASN'T TO SURE ABOUT TEA BEADS OR...</td>\n",
       "    </tr>\n",
       "  </tbody>\n",
       "</table>\n",
       "<p>100 rows × 8 columns</p>\n",
       "</div>"
      ],
      "text/plain": [
       "    verified      reviewerID        asin        reviewerName  \\\n",
       "0       True   ALP49FBWT4I7V  1888861614                Lori   \n",
       "1       True  A1KPIZOCLB9FZ8  1888861614          BK Shopper   \n",
       "2       True  A2W0FA06IYAYQE  1888861614      daninethequeen   \n",
       "3       True  A2PTZTCH2QUYBC  1888861614             Tammara   \n",
       "4       True  A2VNHGJ59N4Z90  1888861614  LaQuinta Alexander   \n",
       "..       ...             ...         ...                 ...   \n",
       "95      True   ADVA88NC8HPEI  4639725043        Tom Kokoshka   \n",
       "96      True  A3UHPPVPM1TRNX  4639725043           Nocal ken   \n",
       "97      True  A1CMJ5QJ8AJVDC  4639725043             M. Koch   \n",
       "98      True  A2VADVLLJES4YM  4639725043        Redford John   \n",
       "99      True   AAK49GOMTZ4OR  4639725043      MILTON D HORST   \n",
       "\n",
       "                                           reviewText helpful_votes  rating  \\\n",
       "0   Very pleased with my purchase. Looks exactly l...           NaN     5.0   \n",
       "1   Very nicely crafted but too small. Am going to...           NaN     4.0   \n",
       "2   still very pretty and well made...i am super p...           NaN     4.0   \n",
       "3   I got this for our wedding cake, and it was ev...           NaN     5.0   \n",
       "4   It was just what I want to put at the top of m...           NaN     4.0   \n",
       "..                                                ...           ...     ...   \n",
       "95  Tried many teas ..... this is my standard reli...           NaN     5.0   \n",
       "96                            Basic good morning tea.           NaN     4.0   \n",
       "97  Okay, but this is not the same Yellow Label Te...           NaN     4.0   \n",
       "98  I'm not much of a tea drinker but my wife and ...           NaN     3.0   \n",
       "99  TEA IS FINE. WASN'T TO SURE ABOUT TEA BEADS OR...           NaN     5.0   \n",
       "\n",
       "                                          reviewTitle  \n",
       "0                                             Love it  \n",
       "1                                      Nice but small  \n",
       "2                        the \"s\" looks like a 5, kina  \n",
       "3                   Would recommend this to a friend!  \n",
       "4                                              Topper  \n",
       "..                                                ...  \n",
       "95          but this is very good tea at a good price  \n",
       "96                                   Good morning tea  \n",
       "97    Okay, but this is not the same Yellow Label ...  \n",
       "98                                    I Prefer Coffee  \n",
       "99  TEA IS FINE. WASN'T TO SURE ABOUT TEA BEADS OR...  \n",
       "\n",
       "[100 rows x 8 columns]"
      ]
     },
     "execution_count": 10,
     "metadata": {},
     "output_type": "execute_result"
    }
   ],
   "source": [
    "#df_reviews[df_reviews['vote'].notnull()]\n",
    "df_reviews['helpful_votes'] = df_reviews['vote']\n",
    "df_reviews['rating'] = df_reviews['overall']\n",
    "df_reviews['reviewTitle'] = df_reviews['summary']\n",
    "df_reviews = df_reviews.drop(['overall','summary','vote'],axis=1)\n",
    "df_reviews.head(100)"
   ]
  },
  {
   "cell_type": "code",
   "execution_count": 11,
   "metadata": {},
   "outputs": [
    {
     "data": {
      "text/plain": [
       "5074160"
      ]
     },
     "execution_count": 11,
     "metadata": {},
     "output_type": "execute_result"
    }
   ],
   "source": [
    "len(df_reviews)"
   ]
  },
  {
   "cell_type": "code",
   "execution_count": 12,
   "metadata": {},
   "outputs": [
    {
     "name": "stdout",
     "output_type": "stream",
     "text": [
      "<class 'pandas.core.frame.DataFrame'>\n",
      "RangeIndex: 5074160 entries, 0 to 5074159\n",
      "Data columns (total 8 columns):\n",
      " #   Column         Dtype  \n",
      "---  ------         -----  \n",
      " 0   verified       bool   \n",
      " 1   reviewerID     object \n",
      " 2   asin           object \n",
      " 3   reviewerName   object \n",
      " 4   reviewText     object \n",
      " 5   helpful_votes  object \n",
      " 6   rating         float64\n",
      " 7   reviewTitle    object \n",
      "dtypes: bool(1), float64(1), object(6)\n",
      "memory usage: 275.8+ MB\n"
     ]
    }
   ],
   "source": [
    "df_reviews.info()"
   ]
  },
  {
   "cell_type": "code",
   "execution_count": 26,
   "metadata": {},
   "outputs": [
    {
     "name": "stdout",
     "output_type": "stream",
     "text": [
      "<class 'pandas.core.frame.DataFrame'>\n",
      "RangeIndex: 5074160 entries, 0 to 5074159\n",
      "Data columns (total 8 columns):\n",
      " #   Column         Dtype  \n",
      "---  ------         -----  \n",
      " 0   verified       bool   \n",
      " 1   reviewerID     object \n",
      " 2   asin           object \n",
      " 3   reviewerName   object \n",
      " 4   reviewText     object \n",
      " 5   helpful_votes  object \n",
      " 6   rating         float64\n",
      " 7   reviewTitle    object \n",
      "dtypes: bool(1), float64(1), object(6)\n",
      "memory usage: 275.8+ MB\n"
     ]
    }
   ],
   "source": [
    "# df_reviews['reviewerName'] = df_reviews['reviewerName'].astype(str)\n",
    "# df_reviews['reviewText'] = df_reviews['reviewText'].astype(str)\n",
    "df_reviews.info()"
   ]
  },
  {
   "cell_type": "code",
   "execution_count": 25,
   "metadata": {},
   "outputs": [
    {
     "data": {
      "image/png": "[encoded data removed]",
      "text/plain": [
       "<Figure size 432x288 with 1 Axes>"
      ]
     },
     "metadata": {
      "needs_background": "light"
     },
     "output_type": "display_data"
    }
   ],
   "source": [
    "import seaborn as sns \n",
    "import matplotlib.pyplot as plt \n",
    "sns.countplot(df_reviews['rating']).set_title(\"Graph of Rating Counts\")\n",
    "plt.show()"
   ]
  },
  {
   "cell_type": "code",
   "execution_count": 64,
   "metadata": {},
   "outputs": [],
   "source": [
    "df_reviews = df_reviews.drop_duplicates(subset={\"reviewerID\",\"reviewerName\",\"reviewText\",\"reviewTitle\"})"
   ]
  },
  {
   "cell_type": "code",
   "execution_count": 65,
   "metadata": {},
   "outputs": [
    {
     "data": {
      "text/plain": [
       "4678158"
      ]
     },
     "execution_count": 65,
     "metadata": {},
     "output_type": "execute_result"
    }
   ],
   "source": [
    "len(df_reviews)"
   ]
  },
  {
   "cell_type": "code",
   "execution_count": null,
   "metadata": {},
   "outputs": [],
   "source": []
  },
  {
   "cell_type": "code",
   "execution_count": null,
   "metadata": {},
   "outputs": [],
   "source": []
  },
  {
   "cell_type": "code",
   "execution_count": null,
   "metadata": {},
   "outputs": [],
   "source": []
  },
  {
   "cell_type": "code",
   "execution_count": null,
   "metadata": {},
   "outputs": [],
   "source": []
  },
  {
   "cell_type": "code",
   "execution_count": null,
   "metadata": {},
   "outputs": [],
   "source": []
  },
  {
   "cell_type": "code",
   "execution_count": null,
   "metadata": {},
   "outputs": [],
   "source": []
  },
  {
   "cell_type": "markdown",
   "metadata": {},
   "source": [
    "# META DataFrame"
   ]
  },
  {
   "cell_type": "code",
   "execution_count": 31,
   "metadata": {},
   "outputs": [
    {
     "name": "stdout",
     "output_type": "stream",
     "text": [
      "287051\n",
      "{'category': ['Grocery & Gourmet Food', 'Dairy, Cheese & Eggs', 'Cheese', 'Gouda'], 'tech1': '', 'description': ['BEEMSTER GOUDA CHEESE AGED 18/24 MONTHS', 'Statements regarding dietary supplements have not been evaluated by the FDA and are not intended to diagnose, treat, cure, or prevent any disease or health condition.'], 'fit': '', 'title': 'Beemster Gouda - Aged 18/24 Months - App. 1.5 Lbs', 'also_buy': [], 'image': [], 'tech2': '', 'brand': 'Ariola Imports', 'feature': [], 'rank': '165,181 in Grocery & Gourmet Food (', 'also_view': ['B0000D9MYM', 'B0000D9MYL', 'B00ADHIGBA', 'B00H9OX598', 'B001LM42GY', 'B001LM5TDY'], 'main_cat': 'Grocery', 'similar_item': '', 'date': '', 'price': '$41.91', 'asin': '0681727810'}\n"
     ]
    }
   ],
   "source": [
    "\n",
    "### load the meta data\n",
    "\n",
    "meta = []\n",
    "with gzip.open('../meta_Grocery_and_Gourmet_Food.json.gz') as f:\n",
    "    for l in f:\n",
    "        meta.append(json.loads(l.strip()))\n",
    "    \n",
    "# total length of list, this number equals total number of products\n",
    "print(len(meta))\n",
    "\n",
    "# first row of the list\n",
    "print(meta[0])"
   ]
  },
  {
   "cell_type": "code",
   "execution_count": 32,
   "metadata": {},
   "outputs": [
    {
     "name": "stdout",
     "output_type": "stream",
     "text": [
      "287051\n"
     ]
    }
   ],
   "source": [
    "# convert list into pandas dataframe\n",
    "\n",
    "meta_df = pd.DataFrame.from_dict(meta)\n",
    "\n",
    "print(len(meta_df))\n",
    "\n"
   ]
  },
  {
   "cell_type": "code",
   "execution_count": 33,
   "metadata": {},
   "outputs": [
    {
     "name": "stdout",
     "output_type": "stream",
     "text": [
      "<class 'pandas.core.frame.DataFrame'>\n",
      "RangeIndex: 287051 entries, 0 to 287050\n",
      "Data columns (total 18 columns):\n",
      " #   Column        Non-Null Count   Dtype \n",
      "---  ------        --------------   ----- \n",
      " 0   category      287051 non-null  object\n",
      " 1   tech1         287051 non-null  object\n",
      " 2   description   287051 non-null  object\n",
      " 3   fit           287051 non-null  object\n",
      " 4   title         287051 non-null  object\n",
      " 5   also_buy      287051 non-null  object\n",
      " 6   image         287051 non-null  object\n",
      " 7   tech2         287051 non-null  object\n",
      " 8   brand         287051 non-null  object\n",
      " 9   feature       287051 non-null  object\n",
      " 10  rank          287051 non-null  object\n",
      " 11  also_view     287051 non-null  object\n",
      " 12  main_cat      287051 non-null  object\n",
      " 13  similar_item  287051 non-null  object\n",
      " 14  date          287051 non-null  object\n",
      " 15  price         287051 non-null  object\n",
      " 16  asin          287051 non-null  object\n",
      " 17  details       287027 non-null  object\n",
      "dtypes: object(18)\n",
      "memory usage: 39.4+ MB\n"
     ]
    }
   ],
   "source": [
    "meta_df.info()"
   ]
  },
  {
   "cell_type": "code",
   "execution_count": 35,
   "metadata": {},
   "outputs": [],
   "source": [
    "meta_df = meta_df.fillna('')\n",
    "meta_df = meta_df.drop(['tech1','fit','also_buy', 'image','tech2', 'also_view','similar_item','date','details'],axis=1)"
   ]
  },
  {
   "cell_type": "markdown",
   "metadata": {},
   "source": [
    "# hello\n",
    "\n",
    "## for meta data\n",
    "category', 'tech1', 'description', 'fit', 'title', 'also_buy', 'image',\n",
    "       'tech2', 'brand', 'feature', 'rank', 'also_view', 'main_cat',\n",
    "       'similar_item', 'date', 'price', 'asin', 'details'\n",
    "       \n",
    "\n",
    "    asin - ID of the product, e.g. 0000031852\n",
    "    title - name of the product\n",
    "    feature - bullet-point format features of the product\n",
    "    description - description of the product\n",
    "    price - price in US dollars (at time of crawl)\n",
    "    image - url of the product image\n",
    "    related - related products (also bought, also viewed, bought together, buy after viewing)\n",
    "    salesRank - sales rank information\n",
    "    brand - brand name\n",
    "    categories - list of categories the product belongs to\n",
    "    tech1 - the first technical detail table of the product\n",
    "    tech2 - the second technical detail table of the product\n",
    "    similar - similar product table\n",
    "\n",
    "       \n",
    "after droping 'tech1','fit','also_buy', 'image','tech2', 'also_view','similar_item','date', I ended up with \n",
    "\n",
    "\n",
    "so someone write a text and I find the one that is most similar to it and then jsut display the title of that one and the link to the page with the asin. - maybe even the review that is similar. \n",
    "\n",
    "second tab you click words that relate to what you want. cheap, expensive, wet, dry, alchol, cheese, \n",
    "\n",
    "### "
   ]
  },
  {
   "cell_type": "code",
   "execution_count": 42,
   "metadata": {},
   "outputs": [
    {
     "name": "stdout",
     "output_type": "stream",
     "text": [
      "<class 'pandas.core.frame.DataFrame'>\n",
      "RangeIndex: 287051 entries, 0 to 287050\n",
      "Data columns (total 10 columns):\n",
      " #   Column         Non-Null Count   Dtype \n",
      "---  ------         --------------   ----- \n",
      " 0   description    287051 non-null  object\n",
      " 1   brand          287051 non-null  object\n",
      " 2   rank           287051 non-null  object\n",
      " 3   price          287051 non-null  object\n",
      " 4   asin           287051 non-null  object\n",
      " 5   details        287051 non-null  object\n",
      " 6   name           287051 non-null  object\n",
      " 7   features       287051 non-null  object\n",
      " 8   categories     287051 non-null  object\n",
      " 9   main_category  287051 non-null  object\n",
      "dtypes: object(10)\n",
      "memory usage: 21.9+ MB\n"
     ]
    }
   ],
   "source": [
    "# meta_df['name'] = meta_df['title']\n",
    "# meta_df['features'] = meta_df['feature']\n",
    "# meta_df['categories'] = meta_df['category']\n",
    "# meta_df['main_category'] = meta_df['main_cat']\n",
    "meta_df = meta_df.drop(['main_cat','title','feature','category'], axis = 1)\n",
    "meta_df.info()"
   ]
  },
  {
   "cell_type": "code",
   "execution_count": 45,
   "metadata": {},
   "outputs": [],
   "source": [
    "# not that useful\n",
    "meta_df['details'].tail(1000)\n",
    "meta_df = meta_df.drop(['details'], axis = 1)"
   ]
  },
  {
   "cell_type": "code",
   "execution_count": 46,
   "metadata": {},
   "outputs": [
    {
     "data": {
      "text/plain": [
       "description      [Jazz up your cakes with a sparkling monogram ...\n",
       "brand                                               Unik Occasions\n",
       "rank             [>#669,941 in Kitchen & Dining (See Top 100 in...\n",
       "price                                                       $29.95\n",
       "asin                                                    1888861118\n",
       "name             Letter C - Swarovski Crystal Monogram Wedding ...\n",
       "features                                                        []\n",
       "categories       [Grocery & Gourmet Food, Cooking & Baking, Fro...\n",
       "main_category                                          Amazon Home\n",
       "Name: 2, dtype: object"
      ]
     },
     "execution_count": 46,
     "metadata": {},
     "output_type": "execute_result"
    }
   ],
   "source": [
    "meta_df.iloc[2]"
   ]
  },
  {
   "cell_type": "code",
   "execution_count": 61,
   "metadata": {},
   "outputs": [
    {
     "data": {
      "text/html": [
       "<div>\n",
       "<style scoped>\n",
       "    .dataframe tbody tr th:only-of-type {\n",
       "        vertical-align: middle;\n",
       "    }\n",
       "\n",
       "    .dataframe tbody tr th {\n",
       "        vertical-align: top;\n",
       "    }\n",
       "\n",
       "    .dataframe thead th {\n",
       "        text-align: right;\n",
       "    }\n",
       "</style>\n",
       "<table border=\"1\" class=\"dataframe\">\n",
       "  <thead>\n",
       "    <tr style=\"text-align: right;\">\n",
       "      <th></th>\n",
       "      <th>description</th>\n",
       "      <th>brand</th>\n",
       "      <th>rank</th>\n",
       "      <th>price</th>\n",
       "      <th>asin</th>\n",
       "      <th>name</th>\n",
       "      <th>features</th>\n",
       "      <th>categories</th>\n",
       "      <th>main_category</th>\n",
       "    </tr>\n",
       "  </thead>\n",
       "  <tbody>\n",
       "    <tr>\n",
       "      <th>0</th>\n",
       "      <td>[BEEMSTER GOUDA CHEESE AGED 18/24 MONTHS, Stat...</td>\n",
       "      <td>Ariola Imports</td>\n",
       "      <td>165,181 in Grocery &amp; Gourmet Food (</td>\n",
       "      <td>$41.91</td>\n",
       "      <td>0681727810</td>\n",
       "      <td>Beemster Gouda - Aged 18/24 Months - App. 1.5 Lbs</td>\n",
       "      <td>[]</td>\n",
       "      <td>[Grocery &amp; Gourmet Food, Dairy, Cheese &amp; Eggs,...</td>\n",
       "      <td>Grocery</td>\n",
       "    </tr>\n",
       "    <tr>\n",
       "      <th>1</th>\n",
       "      <td>[Shipped from UK, please allow 10 to 21 busine...</td>\n",
       "      <td></td>\n",
       "      <td>315,867 in Grocery &amp; Gourmet Food (</td>\n",
       "      <td></td>\n",
       "      <td>0853347867</td>\n",
       "      <td>Trim Healthy Mama Xylitol</td>\n",
       "      <td>[]</td>\n",
       "      <td>[Grocery &amp; Gourmet Food, Cooking &amp; Baking, Sug...</td>\n",
       "      <td>Grocery</td>\n",
       "    </tr>\n",
       "    <tr>\n",
       "      <th>10</th>\n",
       "      <td>[Lipton Yellow Label Tea use only the finest t...</td>\n",
       "      <td>Lipton</td>\n",
       "      <td>30,937 in Grocery &amp; Gourmet Food (</td>\n",
       "      <td>$12.46</td>\n",
       "      <td>4639725043</td>\n",
       "      <td>Lipton Yellow Label Tea (loose tea) - 450g</td>\n",
       "      <td>[]</td>\n",
       "      <td>[Grocery &amp; Gourmet Food, Beverages, Coffee, Te...</td>\n",
       "      <td>Grocery</td>\n",
       "    </tr>\n",
       "    <tr>\n",
       "      <th>11</th>\n",
       "      <td>[Lipton Yellow Label Teabags uses a new way to...</td>\n",
       "      <td>Lipton</td>\n",
       "      <td>15,487 in Grocery &amp; Gourmet Food (</td>\n",
       "      <td>$12.98</td>\n",
       "      <td>4639725183</td>\n",
       "      <td>Lipton Yellow Label Finest Blend Tea Bags 100 ...</td>\n",
       "      <td>[]</td>\n",
       "      <td>[Grocery &amp; Gourmet Food, Beverages, Coffee, Te...</td>\n",
       "      <td>Grocery</td>\n",
       "    </tr>\n",
       "    <tr>\n",
       "      <th>12</th>\n",
       "      <td>[Wagh Bakri Masala Chai 100's (Pack of 3), Sta...</td>\n",
       "      <td>Wagh Bakri</td>\n",
       "      <td>121,506 in Grocery &amp; Gourmet Food (</td>\n",
       "      <td>$25.93</td>\n",
       "      <td>4858582000</td>\n",
       "      <td>Wagh Bakri Masala Chai 100's (Pack of 3)</td>\n",
       "      <td>[]</td>\n",
       "      <td>[Grocery &amp; Gourmet Food, Beverages, Coffee, Te...</td>\n",
       "      <td>Grocery</td>\n",
       "    </tr>\n",
       "    <tr>\n",
       "      <th>...</th>\n",
       "      <td>...</td>\n",
       "      <td>...</td>\n",
       "      <td>...</td>\n",
       "      <td>...</td>\n",
       "      <td>...</td>\n",
       "      <td>...</td>\n",
       "      <td>...</td>\n",
       "      <td>...</td>\n",
       "      <td>...</td>\n",
       "    </tr>\n",
       "    <tr>\n",
       "      <th>132</th>\n",
       "      <td>[]</td>\n",
       "      <td></td>\n",
       "      <td>1,351,212 in Grocery &amp; Gourmet Food (</td>\n",
       "      <td></td>\n",
       "      <td>B0000CEQUJ</td>\n",
       "      <td>Gourmet Ceylon Tea, 3oz.</td>\n",
       "      <td>[]</td>\n",
       "      <td>[Grocery &amp; Gourmet Food, Beverages, Coffee, Te...</td>\n",
       "      <td>Grocery</td>\n",
       "    </tr>\n",
       "    <tr>\n",
       "      <th>133</th>\n",
       "      <td>[Welcome to Peanut Butter perfection. 100% org...</td>\n",
       "      <td>MARANATHA</td>\n",
       "      <td>53,285 in Grocery &amp; Gourmet Food (</td>\n",
       "      <td>$12.41</td>\n",
       "      <td>B0000CEQD5</td>\n",
       "      <td>Maranatha Organic Creamy Peanut Butter, No Sti...</td>\n",
       "      <td>[]</td>\n",
       "      <td>[Grocery &amp; Gourmet Food, Jams, Jellies &amp; Sweet...</td>\n",
       "      <td>Grocery</td>\n",
       "    </tr>\n",
       "    <tr>\n",
       "      <th>134</th>\n",
       "      <td>[]</td>\n",
       "      <td></td>\n",
       "      <td>1,320,113 in Grocery &amp; Gourmet Food (</td>\n",
       "      <td></td>\n",
       "      <td>B0000CER5F</td>\n",
       "      <td>Cherry Tea, 3oz.</td>\n",
       "      <td>[]</td>\n",
       "      <td>[Grocery &amp; Gourmet Food, Beverages, Coffee, Te...</td>\n",
       "      <td>Grocery</td>\n",
       "    </tr>\n",
       "    <tr>\n",
       "      <th>135</th>\n",
       "      <td>[]</td>\n",
       "      <td>Consorzio</td>\n",
       "      <td>1,232,271 in Grocery &amp; Gourmet Food (</td>\n",
       "      <td></td>\n",
       "      <td>B0000CERDX</td>\n",
       "      <td>Annie's Homegrown Basil Flavored Olive Oil</td>\n",
       "      <td>[]</td>\n",
       "      <td>[Grocery &amp; Gourmet Food, Cooking &amp; Baking, Coo...</td>\n",
       "      <td>Grocery</td>\n",
       "    </tr>\n",
       "    <tr>\n",
       "      <th>136</th>\n",
       "      <td>[This is our top selling oil! Add rich, mellow...</td>\n",
       "      <td>Annie's Naturals</td>\n",
       "      <td>410,399 in Grocery &amp; Gourmet Food (</td>\n",
       "      <td></td>\n",
       "      <td>B0000CERE4</td>\n",
       "      <td>Annie's Naturals Roasted Garlic Flavored Extra...</td>\n",
       "      <td>[]</td>\n",
       "      <td>[Grocery &amp; Gourmet Food, Cooking &amp; Baking, Coo...</td>\n",
       "      <td>Grocery</td>\n",
       "    </tr>\n",
       "  </tbody>\n",
       "</table>\n",
       "<p>100 rows × 9 columns</p>\n",
       "</div>"
      ],
      "text/plain": [
       "                                           description             brand  \\\n",
       "0    [BEEMSTER GOUDA CHEESE AGED 18/24 MONTHS, Stat...    Ariola Imports   \n",
       "1    [Shipped from UK, please allow 10 to 21 busine...                     \n",
       "10   [Lipton Yellow Label Tea use only the finest t...            Lipton   \n",
       "11   [Lipton Yellow Label Teabags uses a new way to...            Lipton   \n",
       "12   [Wagh Bakri Masala Chai 100's (Pack of 3), Sta...        Wagh Bakri   \n",
       "..                                                 ...               ...   \n",
       "132                                                 []                     \n",
       "133  [Welcome to Peanut Butter perfection. 100% org...         MARANATHA   \n",
       "134                                                 []                     \n",
       "135                                                 []         Consorzio   \n",
       "136  [This is our top selling oil! Add rich, mellow...  Annie's Naturals   \n",
       "\n",
       "                                      rank   price        asin  \\\n",
       "0      165,181 in Grocery & Gourmet Food (  $41.91  0681727810   \n",
       "1      315,867 in Grocery & Gourmet Food (          0853347867   \n",
       "10      30,937 in Grocery & Gourmet Food (  $12.46  4639725043   \n",
       "11      15,487 in Grocery & Gourmet Food (  $12.98  4639725183   \n",
       "12     121,506 in Grocery & Gourmet Food (  $25.93  4858582000   \n",
       "..                                     ...     ...         ...   \n",
       "132  1,351,212 in Grocery & Gourmet Food (          B0000CEQUJ   \n",
       "133     53,285 in Grocery & Gourmet Food (  $12.41  B0000CEQD5   \n",
       "134  1,320,113 in Grocery & Gourmet Food (          B0000CER5F   \n",
       "135  1,232,271 in Grocery & Gourmet Food (          B0000CERDX   \n",
       "136    410,399 in Grocery & Gourmet Food (          B0000CERE4   \n",
       "\n",
       "                                                  name features  \\\n",
       "0    Beemster Gouda - Aged 18/24 Months - App. 1.5 Lbs       []   \n",
       "1                            Trim Healthy Mama Xylitol       []   \n",
       "10          Lipton Yellow Label Tea (loose tea) - 450g       []   \n",
       "11   Lipton Yellow Label Finest Blend Tea Bags 100 ...       []   \n",
       "12            Wagh Bakri Masala Chai 100's (Pack of 3)       []   \n",
       "..                                                 ...      ...   \n",
       "132                           Gourmet Ceylon Tea, 3oz.       []   \n",
       "133  Maranatha Organic Creamy Peanut Butter, No Sti...       []   \n",
       "134                                   Cherry Tea, 3oz.       []   \n",
       "135         Annie's Homegrown Basil Flavored Olive Oil       []   \n",
       "136  Annie's Naturals Roasted Garlic Flavored Extra...       []   \n",
       "\n",
       "                                            categories main_category  \n",
       "0    [Grocery & Gourmet Food, Dairy, Cheese & Eggs,...       Grocery  \n",
       "1    [Grocery & Gourmet Food, Cooking & Baking, Sug...       Grocery  \n",
       "10   [Grocery & Gourmet Food, Beverages, Coffee, Te...       Grocery  \n",
       "11   [Grocery & Gourmet Food, Beverages, Coffee, Te...       Grocery  \n",
       "12   [Grocery & Gourmet Food, Beverages, Coffee, Te...       Grocery  \n",
       "..                                                 ...           ...  \n",
       "132  [Grocery & Gourmet Food, Beverages, Coffee, Te...       Grocery  \n",
       "133  [Grocery & Gourmet Food, Jams, Jellies & Sweet...       Grocery  \n",
       "134  [Grocery & Gourmet Food, Beverages, Coffee, Te...       Grocery  \n",
       "135  [Grocery & Gourmet Food, Cooking & Baking, Coo...       Grocery  \n",
       "136  [Grocery & Gourmet Food, Cooking & Baking, Coo...       Grocery  \n",
       "\n",
       "[100 rows x 9 columns]"
      ]
     },
     "execution_count": 61,
     "metadata": {},
     "output_type": "execute_result"
    }
   ],
   "source": [
    "# so in the main category of Amazon home there is 8953 , but in the not amazon home there is 278098\n",
    "# and 25206 that are not amazon home or grocery\n",
    "meta_df[meta_df['main_category'] == ('Grocery')].head(100)"
   ]
  },
  {
   "cell_type": "code",
   "execution_count": null,
   "metadata": {},
   "outputs": [],
   "source": [
    "# looking for gormet food only\n",
    "# lets try main category is grocery and categories is gourment food "
   ]
  },
  {
   "cell_type": "code",
   "execution_count": null,
   "metadata": {},
   "outputs": [],
   "source": [
    "# find out all products whose title includes a specified term uses json not pandas though\n",
    "cands = []\n",
    "cands2 = []\n",
    "for d in meta:\n",
    "    if 'title' in d and 'cheese' in d['title'].lower():\n",
    "        cands.append(d)\n",
    "    if 'title' in d and 'french' in d['title'].lower():\n",
    "        cands2.append(d)\n",
    "\n",
    "print(len(cands))\n",
    "print(len(cands2))"
   ]
  },
  {
   "cell_type": "code",
   "execution_count": null,
   "metadata": {},
   "outputs": [],
   "source": [
    "# finding out all products whose category includes a sperific term \n",
    "\n"
   ]
  },
  {
   "cell_type": "code",
   "execution_count": null,
   "metadata": {},
   "outputs": [],
   "source": []
  },
  {
   "cell_type": "code",
   "execution_count": null,
   "metadata": {},
   "outputs": [],
   "source": []
  },
  {
   "cell_type": "code",
   "execution_count": null,
   "metadata": {},
   "outputs": [],
   "source": []
  },
  {
   "cell_type": "code",
   "execution_count": null,
   "metadata": {},
   "outputs": [],
   "source": []
  },
  {
   "cell_type": "code",
   "execution_count": null,
   "metadata": {},
   "outputs": [],
   "source": []
  },
  {
   "cell_type": "code",
   "execution_count": 32,
   "metadata": {},
   "outputs": [
    {
     "name": "stdout",
     "output_type": "stream",
     "text": [
      "4737\n",
      "2899\n"
     ]
    }
   ],
   "source": []
  },
  {
   "cell_type": "code",
   "execution_count": 33,
   "metadata": {},
   "outputs": [
    {
     "name": "stdout",
     "output_type": "stream",
     "text": [
      "Blue Cheese Assortment (30 ounce)\n",
      "Igourmet French Cheese Assortment, 1.8-Pound\n",
      "Irish Cheese Assortment (30 ounce)\n",
      "Dutch Cheese Assortment (1.8 pound)\n",
      "English Cheese Assortment (2 pound)\n",
      "Selection of Sheep's Milk Cheeses (1.5 pound)\n",
      "igourmet's Favorites - 4 Cheese Sampler (30 ounce)\n",
      "igourmet's Favorites - 8 Cheese Sampler (56 ounce)\n",
      "Igourmet Oktoberfest Cheese Assortment, 2-Pound\n",
      "Spanish Cheese Assortment 2 Pound Hand Cut Imported from Spain\n"
     ]
    }
   ],
   "source": [
    "# show some example products\n",
    "for d in cands[:10]:\n",
    "    print(d['title'])"
   ]
  },
  {
   "cell_type": "code",
   "execution_count": 34,
   "metadata": {},
   "outputs": [
    {
     "data": {
      "text/plain": [
       "4680"
      ]
     },
     "execution_count": 34,
     "metadata": {},
     "output_type": "execute_result"
    }
   ],
   "source": [
    "# build asin set\n",
    "cands_asin = set([d['asin'] for d in cands])\n",
    "cands2_asin = set([d['asin'] for d in cands2])\n",
    "len(cands_asin)"
   ]
  },
  {
   "cell_type": "code",
   "execution_count": 38,
   "metadata": {},
   "outputs": [],
   "source": [
    "from collections import defaultdict\n",
    "# align products with reviews\n",
    "reviews = defaultdict(list)\n",
    "for l in meta:\n",
    "    r = l\n",
    "    a = r['asin']\n",
    "    if a in cands_asin:\n",
    "        reviews[a].append(r)"
   ]
  },
  {
   "cell_type": "code",
   "execution_count": null,
   "metadata": {},
   "outputs": [],
   "source": []
  },
  {
   "cell_type": "code",
   "execution_count": 2,
   "metadata": {},
   "outputs": [],
   "source": [
    "import pandas as pd\n",
    "import gzip\n",
    "import json\n",
    "\n",
    "def parse(path):\n",
    "  g = gzip.open(path, 'rb')\n",
    "  for l in g:\n",
    "    yield json.loads(l)\n",
    "\n",
    "def getDF(path):\n",
    "  i = 0\n",
    "  df = {}\n",
    "  for d in parse(path):\n",
    "    df[i] = d\n",
    "    i += 1\n",
    "  return pd.DataFrame.from_dict(df, orient='index')\n",
    "\n",
    "df = getDF('../Grocery_and_Gourmet_Food.json.gz')"
   ]
  },
  {
   "cell_type": "code",
   "execution_count": 3,
   "metadata": {},
   "outputs": [
    {
     "data": {
      "text/html": [
       "<div>\n",
       "<style scoped>\n",
       "    .dataframe tbody tr th:only-of-type {\n",
       "        vertical-align: middle;\n",
       "    }\n",
       "\n",
       "    .dataframe tbody tr th {\n",
       "        vertical-align: top;\n",
       "    }\n",
       "\n",
       "    .dataframe thead th {\n",
       "        text-align: right;\n",
       "    }\n",
       "</style>\n",
       "<table border=\"1\" class=\"dataframe\">\n",
       "  <thead>\n",
       "    <tr style=\"text-align: right;\">\n",
       "      <th></th>\n",
       "      <th>overall</th>\n",
       "      <th>verified</th>\n",
       "      <th>reviewTime</th>\n",
       "      <th>reviewerID</th>\n",
       "      <th>asin</th>\n",
       "      <th>reviewerName</th>\n",
       "      <th>reviewText</th>\n",
       "      <th>summary</th>\n",
       "      <th>unixReviewTime</th>\n",
       "      <th>vote</th>\n",
       "      <th>image</th>\n",
       "      <th>style</th>\n",
       "    </tr>\n",
       "  </thead>\n",
       "  <tbody>\n",
       "    <tr>\n",
       "      <th>0</th>\n",
       "      <td>5.0</td>\n",
       "      <td>True</td>\n",
       "      <td>06 4, 2013</td>\n",
       "      <td>ALP49FBWT4I7V</td>\n",
       "      <td>1888861614</td>\n",
       "      <td>Lori</td>\n",
       "      <td>Very pleased with my purchase. Looks exactly l...</td>\n",
       "      <td>Love it</td>\n",
       "      <td>1370304000</td>\n",
       "      <td>NaN</td>\n",
       "      <td>NaN</td>\n",
       "      <td>NaN</td>\n",
       "    </tr>\n",
       "    <tr>\n",
       "      <th>1</th>\n",
       "      <td>4.0</td>\n",
       "      <td>True</td>\n",
       "      <td>05 23, 2014</td>\n",
       "      <td>A1KPIZOCLB9FZ8</td>\n",
       "      <td>1888861614</td>\n",
       "      <td>BK Shopper</td>\n",
       "      <td>Very nicely crafted but too small. Am going to...</td>\n",
       "      <td>Nice but small</td>\n",
       "      <td>1400803200</td>\n",
       "      <td>NaN</td>\n",
       "      <td>NaN</td>\n",
       "      <td>NaN</td>\n",
       "    </tr>\n",
       "    <tr>\n",
       "      <th>2</th>\n",
       "      <td>4.0</td>\n",
       "      <td>True</td>\n",
       "      <td>05 9, 2014</td>\n",
       "      <td>A2W0FA06IYAYQE</td>\n",
       "      <td>1888861614</td>\n",
       "      <td>daninethequeen</td>\n",
       "      <td>still very pretty and well made...i am super p...</td>\n",
       "      <td>the \"s\" looks like a 5, kina</td>\n",
       "      <td>1399593600</td>\n",
       "      <td>NaN</td>\n",
       "      <td>NaN</td>\n",
       "      <td>NaN</td>\n",
       "    </tr>\n",
       "    <tr>\n",
       "      <th>3</th>\n",
       "      <td>5.0</td>\n",
       "      <td>True</td>\n",
       "      <td>04 20, 2014</td>\n",
       "      <td>A2PTZTCH2QUYBC</td>\n",
       "      <td>1888861614</td>\n",
       "      <td>Tammara</td>\n",
       "      <td>I got this for our wedding cake, and it was ev...</td>\n",
       "      <td>Would recommend this to a friend!</td>\n",
       "      <td>1397952000</td>\n",
       "      <td>NaN</td>\n",
       "      <td>NaN</td>\n",
       "      <td>NaN</td>\n",
       "    </tr>\n",
       "    <tr>\n",
       "      <th>4</th>\n",
       "      <td>4.0</td>\n",
       "      <td>True</td>\n",
       "      <td>04 16, 2014</td>\n",
       "      <td>A2VNHGJ59N4Z90</td>\n",
       "      <td>1888861614</td>\n",
       "      <td>LaQuinta Alexander</td>\n",
       "      <td>It was just what I want to put at the top of m...</td>\n",
       "      <td>Topper</td>\n",
       "      <td>1397606400</td>\n",
       "      <td>NaN</td>\n",
       "      <td>NaN</td>\n",
       "      <td>NaN</td>\n",
       "    </tr>\n",
       "  </tbody>\n",
       "</table>\n",
       "</div>"
      ],
      "text/plain": [
       "   overall  verified   reviewTime      reviewerID        asin  \\\n",
       "0      5.0      True   06 4, 2013   ALP49FBWT4I7V  1888861614   \n",
       "1      4.0      True  05 23, 2014  A1KPIZOCLB9FZ8  1888861614   \n",
       "2      4.0      True   05 9, 2014  A2W0FA06IYAYQE  1888861614   \n",
       "3      5.0      True  04 20, 2014  A2PTZTCH2QUYBC  1888861614   \n",
       "4      4.0      True  04 16, 2014  A2VNHGJ59N4Z90  1888861614   \n",
       "\n",
       "         reviewerName                                         reviewText  \\\n",
       "0                Lori  Very pleased with my purchase. Looks exactly l...   \n",
       "1          BK Shopper  Very nicely crafted but too small. Am going to...   \n",
       "2      daninethequeen  still very pretty and well made...i am super p...   \n",
       "3             Tammara  I got this for our wedding cake, and it was ev...   \n",
       "4  LaQuinta Alexander  It was just what I want to put at the top of m...   \n",
       "\n",
       "                             summary  unixReviewTime vote image style  \n",
       "0                            Love it      1370304000  NaN   NaN   NaN  \n",
       "1                     Nice but small      1400803200  NaN   NaN   NaN  \n",
       "2       the \"s\" looks like a 5, kina      1399593600  NaN   NaN   NaN  \n",
       "3  Would recommend this to a friend!      1397952000  NaN   NaN   NaN  \n",
       "4                             Topper      1397606400  NaN   NaN   NaN  "
      ]
     },
     "execution_count": 3,
     "metadata": {},
     "output_type": "execute_result"
    }
   ],
   "source": [
    "df.head()"
   ]
  },
  {
   "cell_type": "code",
   "execution_count": 4,
   "metadata": {},
   "outputs": [
    {
     "name": "stdout",
     "output_type": "stream",
     "text": [
      "<class 'pandas.core.frame.DataFrame'>\n",
      "Int64Index: 5074160 entries, 0 to 5074159\n",
      "Data columns (total 12 columns):\n",
      " #   Column          Dtype  \n",
      "---  ------          -----  \n",
      " 0   overall         float64\n",
      " 1   verified        bool   \n",
      " 2   reviewTime      object \n",
      " 3   reviewerID      object \n",
      " 4   asin            object \n",
      " 5   reviewerName    object \n",
      " 6   reviewText      object \n",
      " 7   summary         object \n",
      " 8   unixReviewTime  int64  \n",
      " 9   vote            object \n",
      " 10  image           object \n",
      " 11  style           object \n",
      "dtypes: bool(1), float64(1), int64(1), object(9)\n",
      "memory usage: 469.4+ MB\n"
     ]
    }
   ],
   "source": [
    "df.info()"
   ]
  },
  {
   "cell_type": "code",
   "execution_count": 12,
   "metadata": {},
   "outputs": [
    {
     "data": {
      "text/html": [
       "<div>\n",
       "<style scoped>\n",
       "    .dataframe tbody tr th:only-of-type {\n",
       "        vertical-align: middle;\n",
       "    }\n",
       "\n",
       "    .dataframe tbody tr th {\n",
       "        vertical-align: top;\n",
       "    }\n",
       "\n",
       "    .dataframe thead th {\n",
       "        text-align: right;\n",
       "    }\n",
       "</style>\n",
       "<table border=\"1\" class=\"dataframe\">\n",
       "  <thead>\n",
       "    <tr style=\"text-align: right;\">\n",
       "      <th></th>\n",
       "      <th>overall</th>\n",
       "      <th>verified</th>\n",
       "      <th>reviewTime</th>\n",
       "      <th>reviewerID</th>\n",
       "      <th>asin</th>\n",
       "      <th>reviewerName</th>\n",
       "      <th>reviewText</th>\n",
       "      <th>summary</th>\n",
       "      <th>unixReviewTime</th>\n",
       "      <th>vote</th>\n",
       "      <th>image</th>\n",
       "      <th>style</th>\n",
       "    </tr>\n",
       "  </thead>\n",
       "  <tbody>\n",
       "    <tr>\n",
       "      <th>13</th>\n",
       "      <td>5.0</td>\n",
       "      <td>True</td>\n",
       "      <td>11 3, 2014</td>\n",
       "      <td>A2CHH5U12THP2D</td>\n",
       "      <td>4639725183</td>\n",
       "      <td>The Purple Bee</td>\n",
       "      <td>Best black tea in US.\\n\\nHighly recommend.\\nI ...</td>\n",
       "      <td>Best black tea in US</td>\n",
       "      <td>1414972800</td>\n",
       "      <td>2</td>\n",
       "      <td>NaN</td>\n",
       "      <td>NaN</td>\n",
       "    </tr>\n",
       "    <tr>\n",
       "      <th>15</th>\n",
       "      <td>5.0</td>\n",
       "      <td>True</td>\n",
       "      <td>05 21, 2014</td>\n",
       "      <td>A378HXZATS9HKM</td>\n",
       "      <td>4639725183</td>\n",
       "      <td>old patty</td>\n",
       "      <td>I first tasted this tea in the Far East and re...</td>\n",
       "      <td>Great Tea flavor</td>\n",
       "      <td>1400630400</td>\n",
       "      <td>2</td>\n",
       "      <td>NaN</td>\n",
       "      <td>NaN</td>\n",
       "    </tr>\n",
       "    <tr>\n",
       "      <th>16</th>\n",
       "      <td>5.0</td>\n",
       "      <td>True</td>\n",
       "      <td>03 23, 2014</td>\n",
       "      <td>A2ZSQ8Y53ZNQK1</td>\n",
       "      <td>4639725183</td>\n",
       "      <td>Charles L. Mitsakos</td>\n",
       "      <td>Truly the finest tea bags in the world.  Not  ...</td>\n",
       "      <td>A+!</td>\n",
       "      <td>1395532800</td>\n",
       "      <td>5</td>\n",
       "      <td>NaN</td>\n",
       "      <td>NaN</td>\n",
       "    </tr>\n",
       "    <tr>\n",
       "      <th>17</th>\n",
       "      <td>4.0</td>\n",
       "      <td>False</td>\n",
       "      <td>02 8, 2014</td>\n",
       "      <td>A21ZU2TINEQE0H</td>\n",
       "      <td>4639725183</td>\n",
       "      <td>Ken</td>\n",
       "      <td>Tried this while overseas last year; don't rem...</td>\n",
       "      <td>Yellow Label Lipton Tea</td>\n",
       "      <td>1391817600</td>\n",
       "      <td>2</td>\n",
       "      <td>NaN</td>\n",
       "      <td>NaN</td>\n",
       "    </tr>\n",
       "    <tr>\n",
       "      <th>19</th>\n",
       "      <td>5.0</td>\n",
       "      <td>True</td>\n",
       "      <td>12 29, 2013</td>\n",
       "      <td>A1XWZJZLZTMCWK</td>\n",
       "      <td>4639725183</td>\n",
       "      <td>Tom S.</td>\n",
       "      <td>I first tasted it in Caracas on a business tri...</td>\n",
       "      <td>Best Black Tea</td>\n",
       "      <td>1388275200</td>\n",
       "      <td>11</td>\n",
       "      <td>NaN</td>\n",
       "      <td>NaN</td>\n",
       "    </tr>\n",
       "    <tr>\n",
       "      <th>...</th>\n",
       "      <td>...</td>\n",
       "      <td>...</td>\n",
       "      <td>...</td>\n",
       "      <td>...</td>\n",
       "      <td>...</td>\n",
       "      <td>...</td>\n",
       "      <td>...</td>\n",
       "      <td>...</td>\n",
       "      <td>...</td>\n",
       "      <td>...</td>\n",
       "      <td>...</td>\n",
       "      <td>...</td>\n",
       "    </tr>\n",
       "    <tr>\n",
       "      <th>5074136</th>\n",
       "      <td>5.0</td>\n",
       "      <td>True</td>\n",
       "      <td>10 4, 2017</td>\n",
       "      <td>A30N97JBKMGEHF</td>\n",
       "      <td>B01HJF6FRA</td>\n",
       "      <td>reba klauber</td>\n",
       "      <td>you would never know this was vegan is very go...</td>\n",
       "      <td>you would never know this was vegan is very go...</td>\n",
       "      <td>1507075200</td>\n",
       "      <td>2</td>\n",
       "      <td>NaN</td>\n",
       "      <td>NaN</td>\n",
       "    </tr>\n",
       "    <tr>\n",
       "      <th>5074137</th>\n",
       "      <td>5.0</td>\n",
       "      <td>True</td>\n",
       "      <td>09 8, 2017</td>\n",
       "      <td>A223YRQH2Z5T1D</td>\n",
       "      <td>B01HJF6FRA</td>\n",
       "      <td>flint5292</td>\n",
       "      <td>As a new vegan, it is sometimes difficult to r...</td>\n",
       "      <td>As a new vegan, it is sometimes difficult to ...</td>\n",
       "      <td>1504828800</td>\n",
       "      <td>4</td>\n",
       "      <td>NaN</td>\n",
       "      <td>NaN</td>\n",
       "    </tr>\n",
       "    <tr>\n",
       "      <th>5074140</th>\n",
       "      <td>5.0</td>\n",
       "      <td>True</td>\n",
       "      <td>08 4, 2017</td>\n",
       "      <td>A38GDA4TB9EILT</td>\n",
       "      <td>B01HJF6FRA</td>\n",
       "      <td>Moriah Bolyard</td>\n",
       "      <td>The best thing ever is ordering a product you ...</td>\n",
       "      <td>The best thing ever is ordering a product you ...</td>\n",
       "      <td>1501804800</td>\n",
       "      <td>3</td>\n",
       "      <td>NaN</td>\n",
       "      <td>NaN</td>\n",
       "    </tr>\n",
       "    <tr>\n",
       "      <th>5074141</th>\n",
       "      <td>5.0</td>\n",
       "      <td>True</td>\n",
       "      <td>07 4, 2017</td>\n",
       "      <td>A2025PN7HDC5BO</td>\n",
       "      <td>B01HJF6FRA</td>\n",
       "      <td>M.C</td>\n",
       "      <td>I used to love ranch before I became vegan. It...</td>\n",
       "      <td>Just what the vegan ordered!</td>\n",
       "      <td>1499126400</td>\n",
       "      <td>5</td>\n",
       "      <td>NaN</td>\n",
       "      <td>NaN</td>\n",
       "    </tr>\n",
       "    <tr>\n",
       "      <th>5074143</th>\n",
       "      <td>5.0</td>\n",
       "      <td>True</td>\n",
       "      <td>06 7, 2017</td>\n",
       "      <td>A1NY7XWC7EPQOA</td>\n",
       "      <td>B01HJF6FRA</td>\n",
       "      <td>Greensboro</td>\n",
       "      <td>I cannot have dairy nor gluten.  This is as cl...</td>\n",
       "      <td>This is as close to Ranch as I will ever be ab...</td>\n",
       "      <td>1496793600</td>\n",
       "      <td>2</td>\n",
       "      <td>NaN</td>\n",
       "      <td>NaN</td>\n",
       "    </tr>\n",
       "  </tbody>\n",
       "</table>\n",
       "<p>659472 rows × 12 columns</p>\n",
       "</div>"
      ],
      "text/plain": [
       "         overall  verified   reviewTime      reviewerID        asin  \\\n",
       "13           5.0      True   11 3, 2014  A2CHH5U12THP2D  4639725183   \n",
       "15           5.0      True  05 21, 2014  A378HXZATS9HKM  4639725183   \n",
       "16           5.0      True  03 23, 2014  A2ZSQ8Y53ZNQK1  4639725183   \n",
       "17           4.0     False   02 8, 2014  A21ZU2TINEQE0H  4639725183   \n",
       "19           5.0      True  12 29, 2013  A1XWZJZLZTMCWK  4639725183   \n",
       "...          ...       ...          ...             ...         ...   \n",
       "5074136      5.0      True   10 4, 2017  A30N97JBKMGEHF  B01HJF6FRA   \n",
       "5074137      5.0      True   09 8, 2017  A223YRQH2Z5T1D  B01HJF6FRA   \n",
       "5074140      5.0      True   08 4, 2017  A38GDA4TB9EILT  B01HJF6FRA   \n",
       "5074141      5.0      True   07 4, 2017  A2025PN7HDC5BO  B01HJF6FRA   \n",
       "5074143      5.0      True   06 7, 2017  A1NY7XWC7EPQOA  B01HJF6FRA   \n",
       "\n",
       "                reviewerName  \\\n",
       "13            The Purple Bee   \n",
       "15                 old patty   \n",
       "16       Charles L. Mitsakos   \n",
       "17                       Ken   \n",
       "19                    Tom S.   \n",
       "...                      ...   \n",
       "5074136         reba klauber   \n",
       "5074137            flint5292   \n",
       "5074140       Moriah Bolyard   \n",
       "5074141                  M.C   \n",
       "5074143           Greensboro   \n",
       "\n",
       "                                                reviewText  \\\n",
       "13       Best black tea in US.\\n\\nHighly recommend.\\nI ...   \n",
       "15       I first tasted this tea in the Far East and re...   \n",
       "16       Truly the finest tea bags in the world.  Not  ...   \n",
       "17       Tried this while overseas last year; don't rem...   \n",
       "19       I first tasted it in Caracas on a business tri...   \n",
       "...                                                    ...   \n",
       "5074136  you would never know this was vegan is very go...   \n",
       "5074137  As a new vegan, it is sometimes difficult to r...   \n",
       "5074140  The best thing ever is ordering a product you ...   \n",
       "5074141  I used to love ranch before I became vegan. It...   \n",
       "5074143  I cannot have dairy nor gluten.  This is as cl...   \n",
       "\n",
       "                                                   summary  unixReviewTime  \\\n",
       "13                                    Best black tea in US      1414972800   \n",
       "15                                        Great Tea flavor      1400630400   \n",
       "16                                                     A+!      1395532800   \n",
       "17                                 Yellow Label Lipton Tea      1391817600   \n",
       "19                                          Best Black Tea      1388275200   \n",
       "...                                                    ...             ...   \n",
       "5074136  you would never know this was vegan is very go...      1507075200   \n",
       "5074137   As a new vegan, it is sometimes difficult to ...      1504828800   \n",
       "5074140  The best thing ever is ordering a product you ...      1501804800   \n",
       "5074141                       Just what the vegan ordered!      1499126400   \n",
       "5074143  This is as close to Ranch as I will ever be ab...      1496793600   \n",
       "\n",
       "        vote image style  \n",
       "13         2   NaN   NaN  \n",
       "15         2   NaN   NaN  \n",
       "16         5   NaN   NaN  \n",
       "17         2   NaN   NaN  \n",
       "19        11   NaN   NaN  \n",
       "...      ...   ...   ...  \n",
       "5074136    2   NaN   NaN  \n",
       "5074137    4   NaN   NaN  \n",
       "5074140    3   NaN   NaN  \n",
       "5074141    5   NaN   NaN  \n",
       "5074143    2   NaN   NaN  \n",
       "\n",
       "[659472 rows x 12 columns]"
      ]
     },
     "execution_count": 12,
     "metadata": {},
     "output_type": "execute_result"
    }
   ],
   "source": [
    "#df[\"vote\"].astype()\n",
    "df[df[\"vote\"].notnull() ]"
   ]
  },
  {
   "cell_type": "code",
   "execution_count": null,
   "metadata": {},
   "outputs": [],
   "source": [
    "[df['vote'] == 2]"
   ]
  },
  {
   "cell_type": "code",
   "execution_count": null,
   "metadata": {},
   "outputs": [],
   "source": []
  },
  {
   "cell_type": "code",
   "execution_count": null,
   "metadata": {},
   "outputs": [],
   "source": []
  },
  {
   "cell_type": "code",
   "execution_count": null,
   "metadata": {},
   "outputs": [],
   "source": [
    "from sklearn.feature_extraction.text import TfidfTransformer \n",
    "from sklearn.naive_bayes import MultinomialNB \n",
    "from sklearn.pipeline import Pipeline\n",
    "from sklearn.feature_extraction.text import CountVectorizer"
   ]
  },
  {
   "cell_type": "code",
   "execution_count": null,
   "metadata": {},
   "outputs": [],
   "source": []
  },
  {
   "cell_type": "code",
   "execution_count": null,
   "metadata": {},
   "outputs": [],
   "source": []
  }
 ],
 "metadata": {
  "kernelspec": {
   "display_name": "Python 3",
   "language": "python",
   "name": "python3"
  },
  "language_info": {
   "codemirror_mode": {
    "name": "ipython",
    "version": 3
   },
   "file_extension": ".py",
   "mimetype": "text/x-python",
   "name": "python",
   "nbconvert_exporter": "python",
   "pygments_lexer": "ipython3",
   "version": "3.8.3"
  }
 },
 "nbformat": 4,
 "nbformat_minor": 4
}
